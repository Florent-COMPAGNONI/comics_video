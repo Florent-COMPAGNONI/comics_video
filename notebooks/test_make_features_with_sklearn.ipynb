{
 "cells": [
  {
   "cell_type": "markdown",
   "metadata": {},
   "source": [
    "# Test features with sklearn"
   ]
  },
  {
   "cell_type": "code",
   "execution_count": 15,
   "metadata": {},
   "outputs": [],
   "source": [
    "from sklearn.feature_extraction.text import *\n",
    "from sklearn.pipeline import Pipeline"
   ]
  },
  {
   "cell_type": "code",
   "execution_count": 2,
   "metadata": {},
   "outputs": [],
   "source": [
    "data = [\n",
    "    \"Le Barbecue Disney - La chanson de Frédéric Fromet\",\n",
    "    \"Le Roi et l'Oiseau - La Chronique de Christine Gonzalez\",\n",
    "    \"L'amour du lac - La chronique d'Hippolyte Girardot\",\n",
    "]"
   ]
  },
  {
   "cell_type": "code",
   "execution_count": 3,
   "metadata": {},
   "outputs": [
    {
     "data": {
      "text/plain": [
       "array(['amour', 'barbecue', 'chanson', 'christine', 'chronique', 'de',\n",
       "       'disney', 'du', 'et', 'fromet', 'frédéric', 'girardot', 'gonzalez',\n",
       "       'hippolyte', 'la', 'lac', 'le', 'oiseau', 'roi'], dtype=object)"
      ]
     },
     "execution_count": 3,
     "metadata": {},
     "output_type": "execute_result"
    }
   ],
   "source": [
    "vectorizer = CountVectorizer()\n",
    "X = vectorizer.fit_transform(data)\n",
    "vectorizer.get_feature_names_out()"
   ]
  },
  {
   "cell_type": "code",
   "execution_count": 4,
   "metadata": {},
   "outputs": [
    {
     "data": {
      "text/plain": [
       "array([[0, 1, 1, 0, 0, 1, 1, 0, 0, 1, 1, 0, 0, 0, 1, 0, 1, 0, 0],\n",
       "       [0, 0, 0, 1, 1, 1, 0, 0, 1, 0, 0, 0, 1, 0, 1, 0, 1, 1, 1],\n",
       "       [1, 0, 0, 0, 1, 0, 0, 1, 0, 0, 0, 1, 0, 1, 1, 1, 0, 0, 0]],\n",
       "      dtype=int64)"
      ]
     },
     "execution_count": 4,
     "metadata": {},
     "output_type": "execute_result"
    }
   ],
   "source": [
    "X.toarray()"
   ]
  },
  {
   "cell_type": "code",
   "execution_count": 10,
   "metadata": {},
   "outputs": [
    {
     "data": {
      "text/plain": [
       "array(['amour du lac', 'barbecue disney la', 'chanson de frédéric',\n",
       "       'chronique de christine', 'chronique hippolyte girardot',\n",
       "       'de christine gonzalez', 'de frédéric fromet', 'disney la chanson',\n",
       "       'du lac la', 'et oiseau la', 'la chanson de', 'la chronique de',\n",
       "       'la chronique hippolyte', 'lac la chronique', 'le barbecue disney',\n",
       "       'le roi et', 'oiseau la chronique', 'roi et oiseau'], dtype=object)"
      ]
     },
     "execution_count": 10,
     "metadata": {},
     "output_type": "execute_result"
    }
   ],
   "source": [
    "vectorizer2 = CountVectorizer(analyzer='word', ngram_range=(3, 3))\n",
    "X2 = vectorizer2.fit_transform(data)\n",
    "vectorizer2.get_feature_names_out()"
   ]
  },
  {
   "cell_type": "code",
   "execution_count": 6,
   "metadata": {},
   "outputs": [
    {
     "data": {
      "text/plain": [
       "array([[0, 0, 1, 1, 1, 1, 0, 0, 0, 0, 0, 1, 0, 1, 1, 1, 0, 0, 0, 0, 1, 1,\n",
       "        1, 0, 0, 0, 0, 1, 1, 0, 0, 0, 1, 1, 0, 0, 0, 0, 0],\n",
       "       [0, 0, 0, 0, 0, 0, 1, 1, 1, 1, 0, 1, 1, 0, 0, 0, 0, 0, 1, 1, 0, 0,\n",
       "        0, 0, 1, 0, 0, 1, 0, 1, 0, 0, 1, 0, 1, 1, 1, 1, 1],\n",
       "       [1, 1, 0, 0, 0, 0, 0, 0, 1, 0, 1, 0, 0, 0, 0, 0, 1, 1, 0, 0, 0, 0,\n",
       "        0, 1, 0, 1, 1, 1, 0, 1, 1, 1, 0, 0, 0, 0, 0, 0, 0]], dtype=int64)"
      ]
     },
     "execution_count": 6,
     "metadata": {},
     "output_type": "execute_result"
    }
   ],
   "source": [
    "X2.toarray()"
   ]
  },
  {
   "cell_type": "code",
   "execution_count": 14,
   "metadata": {},
   "outputs": [
    {
     "data": {
      "text/plain": [
       "array([' - ', ' ba', ' ch', \" d'\", ' de', ' di', ' du', ' et', ' fr',\n",
       "       ' gi', ' go', \" l'\", ' la', ' le', ' ro', \"'am\", \"'hi\", \"'oi\",\n",
       "       'ac ', 'ale', 'amo', 'ans', 'arb', 'ard', 'au ', 'bar', 'bec',\n",
       "       'cha', 'chr', 'cue', \"d'h\", 'de ', 'dis', 'dot', 'du ', 'dér',\n",
       "       'eau', 'ecu', 'et ', 'ey ', 'ez ', 'fro', 'fré', 'gir', 'gon',\n",
       "       'han', 'hip', 'hri', 'hro', 'ic ', 'ine', 'ipp', 'iqu', 'ira',\n",
       "       'ise', 'isn', 'ist', \"l'a\", \"l'o\", 'la ', 'lac', 'le ', 'lez',\n",
       "       'lyt', 'met', 'mou', 'ne ', 'ney', 'niq', 'nso', 'nza', 'oi ',\n",
       "       'ois', 'oly', 'ome', 'on ', 'oni', 'onz', 'ot ', 'our', 'pol',\n",
       "       'ppo', 'que', 'rar', 'rbe', 'rdo', 'ric', 'ris', 'roi', 'rom',\n",
       "       'ron', 'réd', 'sea', 'sne', 'son', 'sti', 'te ', 'tin', 'ue ',\n",
       "       'ur ', 'yte', 'zal', 'édé', 'éri'], dtype=object)"
      ]
     },
     "execution_count": 14,
     "metadata": {},
     "output_type": "execute_result"
    }
   ],
   "source": [
    "vectorizer3 = CountVectorizer(analyzer='char_wb', ngram_range=(3, 3))\n",
    "X3 = vectorizer3.fit_transform(data)\n",
    "vectorizer3.get_feature_names_out()"
   ]
  },
  {
   "cell_type": "code",
   "execution_count": 16,
   "metadata": {},
   "outputs": [],
   "source": [
    "pipe = Pipeline([\n",
    "    ('count', vectorizer3), \n",
    "    ('tfid', TfidfTransformer())\n",
    "]).fit(data)"
   ]
  },
  {
   "cell_type": "code",
   "execution_count": 17,
   "metadata": {},
   "outputs": [
    {
     "data": {
      "text/plain": [
       "array([[1, 1, 1, 0, 1, 1, 0, 0, 2, 0, 0, 0, 1, 1, 0, 0, 0, 0, 0, 0, 0, 1,\n",
       "        1, 0, 0, 1, 1, 1, 0, 1, 0, 1, 1, 0, 0, 1, 0, 1, 1, 1, 0, 1, 1, 0,\n",
       "        0, 1, 0, 0, 0, 1, 0, 0, 0, 0, 0, 1, 0, 0, 0, 1, 0, 1, 0, 0, 1, 0,\n",
       "        0, 1, 0, 1, 0, 0, 0, 0, 1, 1, 0, 0, 0, 0, 0, 0, 0, 0, 1, 0, 1, 0,\n",
       "        0, 1, 0, 1, 0, 1, 1, 0, 0, 0, 1, 0, 0, 0, 1, 1],\n",
       "       [1, 0, 2, 0, 1, 0, 0, 1, 0, 0, 1, 1, 1, 1, 1, 0, 0, 1, 0, 1, 0, 0,\n",
       "        0, 0, 1, 0, 0, 0, 2, 0, 0, 1, 0, 0, 0, 0, 1, 0, 1, 0, 1, 0, 0, 0,\n",
       "        1, 0, 0, 1, 1, 0, 1, 0, 1, 0, 1, 0, 1, 0, 1, 1, 0, 1, 1, 0, 0, 0,\n",
       "        1, 0, 1, 0, 1, 1, 1, 0, 0, 0, 1, 1, 0, 0, 0, 0, 1, 0, 0, 0, 0, 1,\n",
       "        1, 0, 1, 0, 1, 0, 0, 1, 0, 1, 1, 0, 0, 1, 0, 0],\n",
       "       [1, 0, 1, 1, 0, 0, 1, 0, 0, 1, 0, 1, 2, 0, 0, 1, 1, 0, 1, 0, 1, 0,\n",
       "        0, 1, 0, 0, 0, 0, 1, 0, 1, 0, 0, 1, 1, 0, 0, 0, 0, 0, 0, 0, 0, 1,\n",
       "        0, 0, 1, 0, 1, 0, 0, 1, 1, 1, 0, 0, 0, 1, 0, 1, 1, 0, 0, 1, 0, 1,\n",
       "        0, 0, 1, 0, 0, 0, 0, 1, 0, 0, 1, 0, 1, 1, 1, 1, 1, 1, 0, 1, 0, 0,\n",
       "        0, 0, 1, 0, 0, 0, 0, 0, 1, 0, 1, 1, 1, 0, 0, 0]], dtype=int64)"
      ]
     },
     "execution_count": 17,
     "metadata": {},
     "output_type": "execute_result"
    }
   ],
   "source": [
    "pipe['count'].transform(data).toarray()"
   ]
  },
  {
   "cell_type": "code",
   "execution_count": 21,
   "metadata": {},
   "outputs": [
    {
     "data": {
      "text/plain": [
       "array([1.        , 1.69314718, 1.        , 1.69314718, 1.28768207,\n",
       "       1.69314718, 1.69314718, 1.69314718, 1.69314718, 1.69314718,\n",
       "       1.69314718, 1.28768207, 1.        , 1.28768207, 1.69314718,\n",
       "       1.69314718, 1.69314718, 1.69314718, 1.69314718, 1.69314718,\n",
       "       1.69314718, 1.69314718, 1.69314718, 1.69314718, 1.69314718,\n",
       "       1.69314718, 1.69314718, 1.69314718, 1.28768207, 1.69314718,\n",
       "       1.69314718, 1.28768207, 1.69314718, 1.69314718, 1.69314718,\n",
       "       1.69314718, 1.69314718, 1.69314718, 1.28768207, 1.69314718,\n",
       "       1.69314718, 1.69314718, 1.69314718, 1.69314718, 1.69314718,\n",
       "       1.69314718, 1.69314718, 1.69314718, 1.28768207, 1.69314718,\n",
       "       1.69314718, 1.69314718, 1.28768207, 1.69314718, 1.69314718,\n",
       "       1.69314718, 1.69314718, 1.69314718, 1.69314718, 1.        ,\n",
       "       1.69314718, 1.28768207, 1.69314718, 1.69314718, 1.69314718,\n",
       "       1.69314718, 1.69314718, 1.69314718, 1.28768207, 1.69314718,\n",
       "       1.69314718, 1.69314718, 1.69314718, 1.69314718, 1.69314718,\n",
       "       1.69314718, 1.28768207, 1.69314718, 1.69314718, 1.69314718,\n",
       "       1.69314718, 1.69314718, 1.28768207, 1.69314718, 1.69314718,\n",
       "       1.69314718, 1.69314718, 1.69314718, 1.69314718, 1.69314718,\n",
       "       1.28768207, 1.69314718, 1.69314718, 1.69314718, 1.69314718,\n",
       "       1.69314718, 1.69314718, 1.69314718, 1.        , 1.69314718,\n",
       "       1.69314718, 1.69314718, 1.69314718, 1.69314718])"
      ]
     },
     "execution_count": 21,
     "metadata": {},
     "output_type": "execute_result"
    }
   ],
   "source": [
    "pipe['tfid'].idf_"
   ]
  },
  {
   "cell_type": "code",
   "execution_count": 19,
   "metadata": {},
   "outputs": [
    {
     "data": {
      "text/plain": [
       "(3, 104)"
      ]
     },
     "execution_count": 19,
     "metadata": {},
     "output_type": "execute_result"
    }
   ],
   "source": [
    "pipe.transform(data).shape"
   ]
  },
  {
   "cell_type": "code",
   "execution_count": null,
   "metadata": {},
   "outputs": [],
   "source": []
  }
 ],
 "metadata": {
  "kernelspec": {
   "display_name": "nlp_venv",
   "language": "python",
   "name": "python3"
  },
  "language_info": {
   "codemirror_mode": {
    "name": "ipython",
    "version": 3
   },
   "file_extension": ".py",
   "mimetype": "text/x-python",
   "name": "python",
   "nbconvert_exporter": "python",
   "pygments_lexer": "ipython3",
   "version": "3.10.0"
  }
 },
 "nbformat": 4,
 "nbformat_minor": 2
}
